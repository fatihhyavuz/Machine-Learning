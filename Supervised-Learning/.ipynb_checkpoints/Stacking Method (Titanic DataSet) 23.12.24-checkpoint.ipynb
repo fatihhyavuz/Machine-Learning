{
 "cells": [
  {
   "cell_type": "markdown",
   "metadata": {},
   "source": [
    "# <p style=\"background-color:green;font-family:newtimeroman;font-size:200%;color:white;text-align:center;border-radius:20px 20px;\"><b>Stacking Method (Titanic DataSet)</b></p>\n",
    "![](https://www.techproeducation.com/logo/headerlogo.svg)\n",
    "\n",
    "<b>Yeniliklerden ilk siz haberdar olmak istiyorsanız lütfen bizi takip etmeyi unutmayın </b>[YouTube](https://www.youtube.com/c/techproeducation) | [Instagram](https://www.instagram.com/techproeducation) | [Facebook](https://www.facebook.com/techproeducation) | [Telegram](https://t.me/joinchat/HH2qRvA-ulh4OWbb) | [Whatsapp](https://api.whatsapp.com/send/?phone=%2B15853042959&text&type=phone_number&app_absent=0) | [LinkedIn](https://www.linkedin.com/company/techproeducation/mycompany/) |"
   ]
  },
  {
   "cell_type": "markdown",
   "metadata": {
    "editable": true,
    "slideshow": {
     "slide_type": ""
    },
    "tags": []
   },
   "source": [
    "# Classification with Stacking Methods in Machine Learning\n",
    "\n",
    "Bu notebook'ta, makine öğreniminde model performansını artırmak için kullanılan topluluk yöntemlerinden biri olan **Stacking** yöntemini ele alacağız. Ayrıca, ünlü bir veri seti üzerinde uygulamalı bir örnek gerçekleştirerek, stacking yönteminin nasıl kullanılacağını göstereceğiz."
   ]
  },
  {
   "cell_type": "markdown",
   "metadata": {},
   "source": [
    "## Table of Contents\n",
    "\n",
    "1. [Introduction](#Introduction)\n",
    "2. [What is Stacking?](#What-is-Stacking?)\n",
    "3. [Loading the Dataset and Exploratory Data Analysis](#Loading-the-Dataset-and-Exploratory-Data-Analysis)\n",
    "4. [Data Preprocessing](#Data-Preprocessing)\n",
    "5. [Training Base Learners](#Training-Base-Learners)\n",
    "6. [Training the Meta Learner](#Training-the-Meta-Learner)\n",
    "7. [Model Performance Evaluation](#Model-Performance-Evaluation)\n",
    "8. [Hyperparameter Tuning and Performance Evaluation using GridSearchCV](#Hyperparameter-Tuning-and-Performance-Evaluation-using-GridSearchCV)\n",
    "9. [Comparison of Multiple Classification Algorithms](#Comparison-of-Multiple-Classification-Algorithms)\n",
    "10. [Conclusion](#Conclusion)"
   ]
  },
  {
   "cell_type": "markdown",
   "metadata": {},
   "source": [
    "## Introduction\n",
    "\n",
    "Makine öğreniminde, birden fazla modeli birleştirerek daha güçlü ve genellenebilir bir model elde etmek yaygın bir yaklaşımdır. Bu yaklaşım, **ansambl yöntemleri** olarak bilinir ve bu yöntemlerin en popüler olanlarından biri de **Stacking**'dir.\n",
    "\n",
    "Bu notebook'ta, stacking yöntemini detaylı bir şekilde inceleyecek ve **Titanic** veri seti üzerinde bir sınıflandırma problemi olarak uygulayacağız."
   ]
  },
  {
   "cell_type": "markdown",
   "metadata": {},
   "source": [
    "## What is Stacking?\n",
    "\n",
    "**Stacking**, birden fazla makine öğrenimi modelini birleştirerek tahmin performansını artırmak amacıyla kullanılan bir ensemble (birleştirme) yöntemidir. Bu yöntemde birden fazla model birlikte çalışarak daha güçlü ve genel bir tahmin modeli oluştururlar.\n",
    "\n",
    "### The Logic of Stacking:\n",
    "- Farklı makine öğrenimi algoritmaları, veri üzerinde farklı öngörüler yapabilir.\n",
    "- Her algoritmanın güçlü ve zayıf yanları vardır. Stacking, bu modellerin güçlü yönlerinden yararlanmayı amaçlar.\n",
    "- İlk olarak birkaç temel model (base models) eğitilir ve bunların tahminleri, sonrasında **meta model** (üst model) tarafından kullanılır.\n",
    "- Meta model, temel modellerin tahminlerini birleştirerek son tahmini yapar.\n",
    "\n",
    "### Stacking Steps:\n",
    "1. **Temel Modeller (Base Models):** Birinci katmanda çeşitli makine öğrenimi algoritmaları eğitilir.\n",
    "2. **Meta Model:** İkinci katmanda ise temel modellerin tahmin sonuçlarını giriş olarak alan ve bu tahminlerden nihai tahmini yapan bir meta model eğitilir.\n",
    "\n",
    "### Advantages of Stacking:\n",
    "- **Genelleme Yeteneği:** Tek bir modelin aşırı uyum (overfitting) yapma riskini azaltır.\n",
    "- **Performans:** Farklı modellerin güçlü yanlarını birleştirerek daha yüksek doğruluk oranına ulaşabilir.\n",
    "- **Esneklik:** Farklı model tipleri (ağaç temelli modeller, lineer modeller, vb.) birlikte kullanılabilir.\n",
    "\n",
    "### Popular Stacking Applications:\n",
    "- **Kaggle Yarışmaları:** Özellikle Kaggle'da yarışan kullanıcılar arasında stacking çok popülerdir.\n",
    "- **Büyük Veri ve Zor Problemler:** Stacking, karmaşık veri setleri ve zor sınıflandırma/regresyon problemleri için çok etkilidir."
   ]
  },
  {
   "cell_type": "markdown",
   "metadata": {},
   "source": [
    "## Loading the Dataset and Exploratory Data Analysis\n",
    "\n",
    "**Titanic** veri seti üç dosyadan oluşur: \n",
    "\n",
    "- **train.csv:**\n",
    "- **test.csv**\n",
    "- **gender_submission.csv**\n",
    "\n",
    "**train.csv** modeli eğitmek için,\n",
    "\n",
    "**test.csv**tahmin yapmak için kullanılır. \n",
    "\n",
    "**gender_submission.csv**, tahmin sonuçlarını nasıl sunmamız gerektiğini gösterir."
   ]
  },
  {
   "cell_type": "code",
   "execution_count": 1,
   "metadata": {
    "ExecuteTime": {
     "end_time": "2024-10-11T00:59:08.991076Z",
     "start_time": "2024-10-11T00:59:08.983587Z"
    }
   },
   "outputs": [],
   "source": [
    "# Importing necessary libraries\n",
    "import pandas as pd\n",
    "import numpy as np\n",
    "import matplotlib.pyplot as plt\n",
    "import seaborn as sns\n",
    "\n",
    "# Suppressing warnings\n",
    "import warnings\n",
    "warnings.filterwarnings('ignore')"
   ]
  },
  {
   "cell_type": "code",
   "execution_count": null,
   "metadata": {},
   "outputs": [],
   "source": []
  },
  {
   "cell_type": "code",
   "execution_count": null,
   "metadata": {},
   "outputs": [],
   "source": []
  },
  {
   "cell_type": "markdown",
   "metadata": {},
   "source": [
    "## Data Preprocessing\n",
    "\n",
    "Bu bölümde eksik verilerle ilgilenecek ve veri setini makine öğrenimi modelleri için uygun hale getireceğiz."
   ]
  },
  {
   "cell_type": "code",
   "execution_count": null,
   "metadata": {},
   "outputs": [],
   "source": []
  },
  {
   "cell_type": "code",
   "execution_count": null,
   "metadata": {},
   "outputs": [],
   "source": []
  },
  {
   "cell_type": "markdown",
   "metadata": {},
   "source": [
    "## Training Base Learners\n",
    "\n",
    "Bu bölümde, Lojistik Regresyon, Rastgele Orman ve K-Nearest Neighbor gibi çeşitli temel modelleri eğiteceğiz."
   ]
  },
  {
   "cell_type": "code",
   "execution_count": null,
   "metadata": {},
   "outputs": [],
   "source": []
  },
  {
   "cell_type": "code",
   "execution_count": null,
   "metadata": {},
   "outputs": [],
   "source": []
  },
  {
   "cell_type": "markdown",
   "metadata": {},
   "source": [
    "## Training the Meta Learner\n",
    "\n",
    "Bu bölümde stacking sınıflandırıcısını kullanarak meta öğreniciyi eğiteceğiz. Bu öğrenici, temel modellerin çıktısını kullanarak nihai tahminleri yapacak."
   ]
  },
  {
   "cell_type": "code",
   "execution_count": null,
   "metadata": {},
   "outputs": [],
   "source": []
  },
  {
   "cell_type": "code",
   "execution_count": null,
   "metadata": {},
   "outputs": [],
   "source": []
  },
  {
   "cell_type": "markdown",
   "metadata": {},
   "source": [
    "## Model Performance Evaluation\n",
    "\n",
    "Bu bölümde, stacking modelinin performansını doğruluk, ROC-AUC ve confusion matrix ile değerlendireceğiz."
   ]
  },
  {
   "cell_type": "code",
   "execution_count": null,
   "metadata": {},
   "outputs": [],
   "source": []
  },
  {
   "cell_type": "code",
   "execution_count": null,
   "metadata": {},
   "outputs": [],
   "source": []
  },
  {
   "cell_type": "markdown",
   "metadata": {},
   "source": [
    "## Hyperparameter Tuning and Performance Evaluation using GridSearchCV"
   ]
  },
  {
   "cell_type": "markdown",
   "metadata": {},
   "source": [
    "### v1"
   ]
  },
  {
   "cell_type": "code",
   "execution_count": null,
   "metadata": {},
   "outputs": [],
   "source": []
  },
  {
   "cell_type": "code",
   "execution_count": null,
   "metadata": {},
   "outputs": [],
   "source": []
  },
  {
   "cell_type": "markdown",
   "metadata": {},
   "source": [
    "### v2"
   ]
  },
  {
   "cell_type": "code",
   "execution_count": null,
   "metadata": {},
   "outputs": [],
   "source": []
  },
  {
   "cell_type": "code",
   "execution_count": null,
   "metadata": {},
   "outputs": [],
   "source": []
  },
  {
   "cell_type": "markdown",
   "metadata": {},
   "source": [
    "## Comparison of Multiple Classification Algorithms"
   ]
  },
  {
   "cell_type": "code",
   "execution_count": null,
   "metadata": {},
   "outputs": [],
   "source": []
  },
  {
   "cell_type": "code",
   "execution_count": null,
   "metadata": {},
   "outputs": [],
   "source": []
  },
  {
   "cell_type": "markdown",
   "metadata": {},
   "source": [
    "# <p style=\"background-color:green;font-family:newtimeroman;font-size:100%;color:white;text-align:center;border-radius:20px 20px;\"><b>Faydalı Olması Temennisiyle Teşekkürler</b></p>\n",
    "![](https://www.techproeducation.com/logo/headerlogo.svg)\n",
    "\n",
    "<b>Yeniliklerden ilk siz haberdar olmak istiyorsanız lütfen bizi takip etmeyi unutmayın </b>[YouTube](https://www.youtube.com/c/techproeducation) | [Instagram](https://www.instagram.com/techproeducation) | [Facebook](https://www.facebook.com/techproeducation) | [Telegram](https://t.me/joinchat/HH2qRvA-ulh4OWbb) | [Whatsapp](https://api.whatsapp.com/send/?phone=%2B15853042959&text&type=phone_number&app_absent=0) | [LinkedIn](https://www.linkedin.com/company/techproeducation/mycompany/) |"
   ]
  }
 ],
 "metadata": {
  "colab": {
   "collapsed_sections": [
    "o9jfMvQRASCz"
   ],
   "provenance": [],
   "toc_visible": true
  },
  "hide_input": false,
  "kernelspec": {
   "display_name": "Python 3 (ipykernel)",
   "language": "python",
   "name": "python3"
  },
  "language_info": {
   "codemirror_mode": {
    "name": "ipython",
    "version": 3
   },
   "file_extension": ".py",
   "mimetype": "text/x-python",
   "name": "python",
   "nbconvert_exporter": "python",
   "pygments_lexer": "ipython3",
   "version": "3.12.7"
  },
  "require": {
   "paths": {
    "buttons.colvis": "https://cdn.datatables.net/buttons/1.5.6/js/buttons.colVis.min",
    "buttons.flash": "https://cdn.datatables.net/buttons/1.5.6/js/buttons.flash.min",
    "buttons.html5": "https://cdn.datatables.net/buttons/1.5.6/js/buttons.html5.min",
    "buttons.print": "https://cdn.datatables.net/buttons/1.5.6/js/buttons.print.min",
    "chartjs": "https://cdnjs.cloudflare.com/ajax/libs/Chart.js/2.8.0/Chart",
    "d3": "https://d3js.org/d3.v5.min",
    "d3-array": "https://d3js.org/d3-array.v2.min",
    "datatables.net": "https://cdn.datatables.net/1.10.18/js/jquery.dataTables",
    "datatables.net-buttons": "https://cdn.datatables.net/buttons/1.5.6/js/dataTables.buttons.min",
    "datatables.responsive": "https://cdn.datatables.net/responsive/2.2.2/js/dataTables.responsive.min",
    "datatables.scroller": "https://cdn.datatables.net/scroller/2.0.0/js/dataTables.scroller.min",
    "datatables.select": "https://cdn.datatables.net/select/1.3.0/js/dataTables.select.min",
    "jszip": "https://cdnjs.cloudflare.com/ajax/libs/jszip/2.5.0/jszip.min",
    "moment": "https://cdnjs.cloudflare.com/ajax/libs/moment.js/2.8.0/moment",
    "pdfmake": "https://cdnjs.cloudflare.com/ajax/libs/pdfmake/0.1.36/pdfmake.min",
    "vfsfonts": "https://cdnjs.cloudflare.com/ajax/libs/pdfmake/0.1.36/vfs_fonts"
   },
   "shim": {
    "buttons.colvis": {
     "deps": [
      "jszip",
      "datatables.net-buttons"
     ]
    },
    "buttons.flash": {
     "deps": [
      "jszip",
      "datatables.net-buttons"
     ]
    },
    "buttons.html5": {
     "deps": [
      "jszip",
      "datatables.net-buttons"
     ]
    },
    "buttons.print": {
     "deps": [
      "jszip",
      "datatables.net-buttons"
     ]
    },
    "chartjs": {
     "deps": [
      "moment"
     ]
    },
    "datatables.net": {
     "exports": "$.fn.dataTable"
    },
    "datatables.net-buttons": {
     "deps": [
      "datatables.net"
     ]
    },
    "pdfmake": {
     "deps": [
      "datatables.net"
     ]
    },
    "vfsfonts": {
     "deps": [
      "datatables.net"
     ]
    }
   }
  },
  "toc": {
   "base_numbering": 1,
   "nav_menu": {},
   "number_sections": true,
   "sideBar": true,
   "skip_h1_title": false,
   "title_cell": "Table of Contents",
   "title_sidebar": "Contents",
   "toc_cell": false,
   "toc_position": {
    "height": "calc(100% - 180px)",
    "left": "10px",
    "top": "150px",
    "width": "383.963px"
   },
   "toc_section_display": true,
   "toc_window_display": true
  },
  "toc-autonumbering": true,
  "toc-showmarkdowntxt": true,
  "varInspector": {
   "cols": {
    "lenName": 16,
    "lenType": 16,
    "lenVar": 40
   },
   "kernels_config": {
    "python": {
     "delete_cmd_postfix": "",
     "delete_cmd_prefix": "del ",
     "library": "var_list.py",
     "varRefreshCmd": "print(var_dic_list())"
    },
    "r": {
     "delete_cmd_postfix": ") ",
     "delete_cmd_prefix": "rm(",
     "library": "var_list.r",
     "varRefreshCmd": "cat(var_dic_list()) "
    }
   },
   "oldHeight": 326.85,
   "position": {
    "height": "40px",
    "left": "1233.2px",
    "right": "20px",
    "top": "120px",
    "width": "250px"
   },
   "types_to_exclude": [
    "module",
    "function",
    "builtin_function_or_method",
    "instance",
    "_Feature"
   ],
   "varInspector_section_display": "none",
   "window_display": false
  },
  "vscode": {
   "interpreter": {
    "hash": "9a4c4f48a7c69f416f6cf2655c5700f68b3ff724cce5aaacbc7bad0fd37e2def"
   }
  }
 },
 "nbformat": 4,
 "nbformat_minor": 4
}

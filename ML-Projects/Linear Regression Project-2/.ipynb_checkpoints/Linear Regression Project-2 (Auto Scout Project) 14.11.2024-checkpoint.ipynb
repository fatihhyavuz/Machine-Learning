{
 "cells": [
  {
   "attachments": {},
   "cell_type": "markdown",
   "metadata": {
    "id": "4UCsvzbImqZN"
   },
   "source": [
    "# <p style=\"background-color:green;font-family:newtimeroman;font-size:200%;color:white;text-align:center;border-radius:20px 20px;\"><b>Lineer Regression Project 2 (Auto Scout)</b></p>\n",
    "![](https://www.techproeducation.com/logo/headerlogo.svg)\n",
    "\n",
    "<b>Yeniliklerden ilk siz haberdar olmak istiyorsanız lütfen bizi takip etmeyi unutmayın </b>[YouTube](https://www.youtube.com/c/techproeducation) | [Instagram](https://www.instagram.com/techproeducation) | [Facebook](https://www.facebook.com/techproeducation) | [Telegram](https://t.me/joinchat/HH2qRvA-ulh4OWbb) | [Whatsapp](https://api.whatsapp.com/send/?phone=%2B15853042959&text&type=phone_number&app_absent=0) | [LinkedIn](https://www.linkedin.com/company/techproeducation/mycompany/) |"
   ]
  },
  {
   "cell_type": "markdown",
   "metadata": {
    "id": "i5WapR8JmqZN"
   },
   "source": [
    "# About the Dataset\n",
    "\n",
    "- **Auto Scout** datası, 2019'da çevrimiçi otomobil ticaret şirketi [AutoScout24](https://www.autoscout24.com) 'den alınmıştır ve 9 farklı otomobil modelinin birçok özelliğini içermektedir. \n",
    "\n",
    "- Bu projede, algoritmalar için zaten önceden işlenmiş ve hazırlanmış veri setini kullanacağız.\n",
    "\n",
    "- Bu projenin amacı, makine öğrenimi algoritmalarını anlamaktır. Bu nedenle, düzenlenmiş veri üzerinde çalışacağınız için yoğun bir EDA sürecine ihtiyaç duymayacağız.\n",
    "\n",
    "- Bu senaryoda, regresyon algoritmalarını kullanarak otomobil fiyatlarını tahmin edeceğiz.\n",
    "\n",
    "- Başlarken gerekli kütüphaneleri içe aktarmamız gerekecek. Ayrıca modellemeye geçmeden önce birkaç ön işleme yapmamız gerekecek.\n",
    "\n",
    "- Daha sonra sırasıyla Lineer Regresyon, Ridge Regresyon, Lasso Regresyon ve Elastic-Net algoritmalarını uygulayacağız. \n",
    "\n",
    "- Modellerimizin başarısını regresyon hata metrikleriyle ve cross validation yöntemiyle ölçebiliriz.\n",
    "\n",
    "- Daha iyi sonuçlar için, hiperparametre ayarlama yaparak modellerinizin başarısını artırmaya çalışağız. \n",
    "\n",
    "- Model için feature ların önemlerini belirleyip kaynak tasarrufu için modelimizi en önemli feature lar ile ayarlayacağız. \n",
    "\n",
    "- Son olarak, algoritmaların performanslarını karşılaştıracağız.\n",
    "\n",
    "- Ayrıca en başarılı tahmin oranına sahip olan algoritma üzerinde daha fazla çalışabilirsiniz.\n",
    "\n",
    "\n",
    "1. **make_model**: Araçların marka ve model bilgisini içerir.\n",
    "2. **body_type**: Araçların gövde tipini belirtir (örn. sedan, hatchback).\n",
    "3. **price**: Araçların fiyat bilgisini içerir.\n",
    "4. **vat**: KDV bilgisini içerir (genellikle araç satışlarında önemlidir).\n",
    "5. **km**: Araçların kilometre bilgisini içerir.\n",
    "6. **Type**: Araç türünü belirtir (örn. yeni, ikinci el).\n",
    "7. **Fuel**: Kullanılan yakıt türünü belirtir (örn. benzin, dizel).\n",
    "8. **Gears**: Araçların vites sayısını içerir.\n",
    "9. **Comfort_Convenience**: Araçların konfor ve kolaylık özelliklerini içerir.\n",
    "10. **Entertainment_Media**: Eğlence ve medya özelliklerini içerir.\n",
    "11. **Extras**: Araçların ekstra özelliklerini içerir.\n",
    "12. **Safety_Security**: Güvenlik özelliklerini içerir.\n",
    "13. **age**: Araçların yaşı.\n",
    "14. **Previous_Owners**: Araçların önceki sahip sayısını içerir.\n",
    "15. **hp_kW**: Araçların beygir gücünü kilowatt cinsinden içerir.\n",
    "16. **Inspection_new**: Araçların yeni muayene bilgisini içerir.\n",
    "17. **Paint_Type**: Araçların boya tipini içerir.\n",
    "18. **Upholstery_type**: Araçların iç döşeme tipini içerir.\n",
    "19. **Gearing_Type**: Araçların şanzıman tipini içerir.\n",
    "20. **Displacement_cc**: Motor hacmini santimetreküp (cc) cinsinden belirtir.\n",
    "21. **Weight_kg**: Araçların ağırlığını kilogram cinsinden belirtir.\n",
    "22. **Drive_chain**: Araçların çekiş türünü belirtir (örn. ön çekiş, arka çekiş).\n",
    "23. **cons_comb**: Araçların kombinasyonel yakıt tüketimini litresi 100 kilometre başına belirtir.\n",
    "\n",
    "**------------**\n",
    "\n",
    "1. **make_model**: Contains the make and model information of the vehicles.\n",
    "2. **body_type**: Indicates the body type of the vehicles (e.g., sedan, hatchback).\n",
    "3. **price**: Contains the price information of the vehicles.\n",
    "4. **vat**: Contains value-added tax (VAT) information (often important in vehicle sales).\n",
    "5. **km**: Contains the mileage information of the vehicles.\n",
    "6. **Type**: Indicates the type of the vehicle (e.g., new, used).\n",
    "7. **Fuel**: Indicates the type of fuel used (e.g., petrol, diesel).\n",
    "8. **Gears**: Contains the number of gears in the vehicles.\n",
    "9. **Comfort_Convenience**: Contains the comfort and convenience features of the vehicles.\n",
    "10. **Entertainment_Media**: Contains entertainment and media features.\n",
    "11. **Extras**: Contains the extra features of the vehicles.\n",
    "12. **Safety_Security**: Contains safety features.\n",
    "13. **age**: The age of the vehicles.\n",
    "14. **Previous_Owners**: Contains the number of previous owners of the vehicles.\n",
    "15. **hp_kW**: Contains the horsepower of the vehicles in kilowatts.\n",
    "16. **Inspection_new**: Contains information about whether the vehicle has a new inspection.\n",
    "17. **Paint_Type**: Contains the type of paint of the vehicles.\n",
    "18. **Upholstery_type**: Contains the type of upholstery in the vehicles.\n",
    "19. **Gearing_Type**: Indicates the type of transmission in the vehicles.\n",
    "20. **Displacement_cc**: Indicates the engine displacement in cubic centimeters (cc).\n",
    "21. **Weight_kg**: Indicates the weight of the vehicles in kilograms.\n",
    "22. **Drive_chain**: Indicates the type of drive train in the vehicles (e.g., front-wheel drive, rear-wheel drive).\n",
    "23. **cons_comb**: Indicates the combined fuel consumption of the vehicles in liters per 100 kilometers."
   ]
  },
  {
   "cell_type": "markdown",
   "metadata": {
    "id": "c0Iul5QymqZN"
   },
   "source": [
    "\n",
    "\n",
    "\n",
    "\n",
    "\n",
    "\n",
    "\n"
   ]
  },
  {
   "cell_type": "markdown",
   "metadata": {},
   "source": [
    "# Tasks\n",
    "\n",
    "- 1. Import Modules, Load Data and Data Review\n",
    "\n",
    "- 2. EDA\n",
    "\n",
    "- 3. Train | Test Split\n",
    "\n",
    "- 4. Implement Linear Regression\n",
    "\n",
    "- 5. Implement Ridge Regression\n",
    "\n",
    "- 6. Implement Lasso Regression\n",
    "\n",
    "- 7. Implement Elastic-Net\n",
    "\n",
    "- 8. Visually Compare Models Performance In a Graph\n",
    "\n",
    "- 9. Feature Importance\n",
    "\n",
    "- 10. Compare Models Performance\n",
    " \n",
    "- 11. Final Model\n",
    "\n",
    "- 12. Prediction"
   ]
  },
  {
   "cell_type": "markdown",
   "metadata": {
    "id": "Rik6d_vimqZN"
   },
   "source": [
    "# Import Modules, Load Data and Data Review"
   ]
  },
  {
   "cell_type": "code",
   "execution_count": null,
   "metadata": {},
   "outputs": [],
   "source": []
  },
  {
   "cell_type": "code",
   "execution_count": null,
   "metadata": {},
   "outputs": [],
   "source": []
  },
  {
   "cell_type": "markdown",
   "metadata": {
    "id": "QsEUUAAKmqZN"
   },
   "source": [
    "# EDA"
   ]
  },
  {
   "cell_type": "code",
   "execution_count": null,
   "metadata": {},
   "outputs": [],
   "source": []
  },
  {
   "cell_type": "code",
   "execution_count": null,
   "metadata": {},
   "outputs": [],
   "source": []
  },
  {
   "cell_type": "markdown",
   "metadata": {},
   "source": [
    "# Train | Test Split"
   ]
  },
  {
   "cell_type": "code",
   "execution_count": null,
   "metadata": {},
   "outputs": [],
   "source": []
  },
  {
   "cell_type": "code",
   "execution_count": null,
   "metadata": {},
   "outputs": [],
   "source": []
  },
  {
   "cell_type": "markdown",
   "metadata": {
    "id": "An_5ITcAmqZO"
   },
   "source": [
    "# Implement Linear Regression"
   ]
  },
  {
   "cell_type": "code",
   "execution_count": null,
   "metadata": {},
   "outputs": [],
   "source": []
  },
  {
   "cell_type": "code",
   "execution_count": null,
   "metadata": {},
   "outputs": [],
   "source": []
  },
  {
   "cell_type": "markdown",
   "metadata": {
    "id": "n2ROwYsymqZO"
   },
   "source": [
    "# Implement Ridge Regression"
   ]
  },
  {
   "cell_type": "code",
   "execution_count": null,
   "metadata": {},
   "outputs": [],
   "source": []
  },
  {
   "cell_type": "code",
   "execution_count": null,
   "metadata": {},
   "outputs": [],
   "source": []
  },
  {
   "cell_type": "markdown",
   "metadata": {
    "id": "oDfXOSnpmqZO"
   },
   "source": [
    "# Implement Lasso Regression"
   ]
  },
  {
   "cell_type": "code",
   "execution_count": null,
   "metadata": {},
   "outputs": [],
   "source": []
  },
  {
   "cell_type": "code",
   "execution_count": null,
   "metadata": {},
   "outputs": [],
   "source": []
  },
  {
   "cell_type": "markdown",
   "metadata": {
    "id": "qpoOypMbmqZO"
   },
   "source": [
    "# Implement Elastic-Net"
   ]
  },
  {
   "cell_type": "code",
   "execution_count": null,
   "metadata": {},
   "outputs": [],
   "source": []
  },
  {
   "cell_type": "code",
   "execution_count": null,
   "metadata": {},
   "outputs": [],
   "source": []
  },
  {
   "cell_type": "markdown",
   "metadata": {},
   "source": [
    "# Feature Importance"
   ]
  },
  {
   "cell_type": "code",
   "execution_count": null,
   "metadata": {},
   "outputs": [],
   "source": []
  },
  {
   "cell_type": "code",
   "execution_count": null,
   "metadata": {},
   "outputs": [],
   "source": []
  },
  {
   "cell_type": "markdown",
   "metadata": {
    "id": "sYyuZQtWmqZO"
   },
   "source": [
    "# Compare Models Performance"
   ]
  },
  {
   "cell_type": "code",
   "execution_count": null,
   "metadata": {},
   "outputs": [],
   "source": []
  },
  {
   "cell_type": "code",
   "execution_count": null,
   "metadata": {},
   "outputs": [],
   "source": []
  },
  {
   "cell_type": "markdown",
   "metadata": {},
   "source": [
    "# Final Model"
   ]
  },
  {
   "cell_type": "code",
   "execution_count": null,
   "metadata": {},
   "outputs": [],
   "source": []
  },
  {
   "cell_type": "code",
   "execution_count": null,
   "metadata": {},
   "outputs": [],
   "source": []
  },
  {
   "cell_type": "markdown",
   "metadata": {},
   "source": [
    "# Prediction with new observation"
   ]
  },
  {
   "cell_type": "code",
   "execution_count": null,
   "metadata": {},
   "outputs": [],
   "source": []
  },
  {
   "cell_type": "code",
   "execution_count": null,
   "metadata": {},
   "outputs": [],
   "source": []
  },
  {
   "attachments": {},
   "cell_type": "markdown",
   "metadata": {},
   "source": [
    "# <p style=\"background-color:green;font-family:newtimeroman;font-size:100%;color:white;text-align:center;border-radius:20px 20px;\"><b>Faydalı Olması Temennisiyle Teşekkürler</b></p>\n",
    "![](https://www.techproeducation.com/logo/headerlogo.svg)\n",
    "\n",
    "<b>Yeniliklerden ilk siz haberdar olmak istiyorsanız lütfen bizi takip etmeyi unutmayın </b>[YouTube](https://www.youtube.com/c/techproeducation) | [Instagram](https://www.instagram.com/techproeducation) | [Facebook](https://www.facebook.com/techproeducation) | [Telegram](https://t.me/joinchat/HH2qRvA-ulh4OWbb) | [WhatsApp](https://api.whatsapp.com/send/?phone=%2B15853042959&text&type=phone_number&app_absent=0) | [LinkedIn](https://www.linkedin.com/company/techproeducation/mycompany/) |"
   ]
  }
 ],
 "metadata": {
  "colab": {
   "collapsed_sections": [],
   "name": "modeling_auto_scout_Student_V1.ipynb",
   "provenance": []
  },
  "hide_input": false,
  "kernelspec": {
   "display_name": "Python 3 (ipykernel)",
   "language": "python",
   "name": "python3"
  },
  "language_info": {
   "codemirror_mode": {
    "name": "ipython",
    "version": 3
   },
   "file_extension": ".py",
   "mimetype": "text/x-python",
   "name": "python",
   "nbconvert_exporter": "python",
   "pygments_lexer": "ipython3",
   "version": "3.12.7"
  },
  "toc": {
   "base_numbering": 1,
   "nav_menu": {},
   "number_sections": true,
   "sideBar": true,
   "skip_h1_title": false,
   "title_cell": "Table of Contents",
   "title_sidebar": "Contents",
   "toc_cell": false,
   "toc_position": {
    "height": "calc(100% - 180px)",
    "left": "10px",
    "top": "150px",
    "width": "384px"
   },
   "toc_section_display": true,
   "toc_window_display": true
  },
  "varInspector": {
   "cols": {
    "lenName": 16,
    "lenType": 16,
    "lenVar": 40
   },
   "kernels_config": {
    "python": {
     "delete_cmd_postfix": "",
     "delete_cmd_prefix": "del ",
     "library": "var_list.py",
     "varRefreshCmd": "print(var_dic_list())"
    },
    "r": {
     "delete_cmd_postfix": ") ",
     "delete_cmd_prefix": "rm(",
     "library": "var_list.r",
     "varRefreshCmd": "cat(var_dic_list()) "
    }
   },
   "types_to_exclude": [
    "module",
    "function",
    "builtin_function_or_method",
    "instance",
    "_Feature"
   ],
   "window_display": false
  }
 },
 "nbformat": 4,
 "nbformat_minor": 4
}
